{
 "cells": [
  {
   "cell_type": "code",
   "execution_count": 1,
   "id": "ef1598b8",
   "metadata": {},
   "outputs": [],
   "source": [
    "import random # for random value\n",
    "import numpy as np # linear algebra\n",
    "import pandas as pd # data processing, CSV file I/O (e.g. pd.read_csv)\n",
    "import matplotlib.pyplot as plt # plotting \n",
    "from PIL import Image # Image processing\n",
    "import json  #json file I/O\n",
    "#from mpl_toolkits.basemap import Basemap"
   ]
  },
  {
   "cell_type": "code",
   "execution_count": 2,
   "id": "cbac064d",
   "metadata": {},
   "outputs": [],
   "source": [
    "from keras.models import Sequential\n",
    "from keras.layers import Dense, Flatten, Activation\n",
    "from keras.layers import Dropout\n",
    "from keras.layers.convolutional import Conv2D, MaxPooling2D\n",
    "from keras.utils import np_utils\n",
    "from keras.optimizers import SGD\n",
    "import keras.callbacks"
   ]
  },
  {
   "cell_type": "code",
   "execution_count": 3,
   "id": "47395b81",
   "metadata": {},
   "outputs": [],
   "source": [
    "from pathlib import Path\n",
    "from skimage.io import imread\n",
    "from skimage.color import rgb2gray"
   ]
  },
  {
   "cell_type": "code",
   "execution_count": 4,
   "id": "9b80437e",
   "metadata": {},
   "outputs": [
    {
     "name": "stdout",
     "output_type": "stream",
     "text": [
      "display.max_colwidth : int or None\n",
      "    The maximum width in characters of a column in the repr of\n",
      "    a pandas data structure. When the column overflows, a \"...\"\n",
      "    placeholder is embedded in the output. A 'None' value means unlimited.\n",
      "    [default: 50] [currently: 400]\n"
     ]
    }
   ],
   "source": [
    "#set up too see all contents\n",
    "#reference: https://stackoverflow.com/questions/60013721/how-to-see-complete-rows-in-google-colab\n",
    "pd.set_option('max_rows', 99999)\n",
    "pd.set_option('max_colwidth', 400)\n",
    "pd.describe_option('max_colwidth')"
   ]
  },
  {
   "cell_type": "markdown",
   "id": "ada8e988",
   "metadata": {},
   "source": [
    "import and process data"
   ]
  },
  {
   "cell_type": "code",
   "execution_count": 5,
   "id": "4371acf2",
   "metadata": {},
   "outputs": [],
   "source": [
    "#Data directory\n",
    "ac = Path(r\"C:\\资料\\MUSA650\\Final\\EuroSAT\\2750\\AnnualCrop\")\n",
    "df1 = pd.DataFrame({'path': list(ac.glob('**/*.jp*g'))})\n",
    "\n",
    "fo = Path(r\"C:\\资料\\MUSA650\\Final\\EuroSAT\\2750\\Forest\")\n",
    "df2 = pd.DataFrame({'path': list(fo.glob('**/*.jp*g'))})\n",
    "\n",
    "hv = Path(r\"C:\\资料\\MUSA650\\Final\\EuroSAT\\2750\\HerbaceousVegetation\")\n",
    "df3 = pd.DataFrame({'path': list(hv.glob('**/*.jp*g'))})\n",
    "\n",
    "hw = Path(r\"C:\\资料\\MUSA650\\Final\\EuroSAT\\2750\\Highway\")\n",
    "df4 = pd.DataFrame({'path': list(hw.glob('**/*.jp*g'))})\n",
    "\n",
    "ind = Path(r\"C:\\资料\\MUSA650\\Final\\EuroSAT\\2750\\Industrial\")\n",
    "df5 = pd.DataFrame({'path': list(ind.glob('**/*.jp*g'))})\n",
    "\n",
    "pas = Path(r\"C:\\资料\\MUSA650\\Final\\EuroSAT\\2750\\Pasture\")\n",
    "df6 = pd.DataFrame({'path': list(pas.glob('**/*.jp*g'))})\n",
    "\n",
    "pc = Path(r\"C:\\资料\\MUSA650\\Final\\EuroSAT\\2750\\PermanentCrop\")\n",
    "df7 = pd.DataFrame({'path': list(pc.glob('**/*.jp*g'))})\n",
    "\n",
    "res = Path(r\"C:\\资料\\MUSA650\\Final\\EuroSAT\\2750\\Residential\")\n",
    "df8 = pd.DataFrame({'path': list(res.glob('**/*.jp*g'))})\n",
    "\n",
    "riv = Path(r\"C:\\资料\\MUSA650\\Final\\EuroSAT\\2750\\River\")\n",
    "df9 = pd.DataFrame({'path': list(riv.glob('**/*.jp*g'))})\n",
    "\n",
    "sl = Path(r\"C:\\资料\\MUSA650\\Final\\EuroSAT\\2750\\SeaLake\")\n",
    "df10 = pd.DataFrame({'path': list(sl.glob('**/*.jp*g'))})"
   ]
  },
  {
   "cell_type": "code",
   "execution_count": 6,
   "id": "b9566c33",
   "metadata": {},
   "outputs": [
    {
     "data": {
      "text/html": [
       "<div>\n",
       "<style scoped>\n",
       "    .dataframe tbody tr th:only-of-type {\n",
       "        vertical-align: middle;\n",
       "    }\n",
       "\n",
       "    .dataframe tbody tr th {\n",
       "        vertical-align: top;\n",
       "    }\n",
       "\n",
       "    .dataframe thead th {\n",
       "        text-align: right;\n",
       "    }\n",
       "</style>\n",
       "<table border=\"1\" class=\"dataframe\">\n",
       "  <thead>\n",
       "    <tr style=\"text-align: right;\">\n",
       "      <th></th>\n",
       "      <th>path</th>\n",
       "    </tr>\n",
       "  </thead>\n",
       "  <tbody>\n",
       "    <tr>\n",
       "      <th>0</th>\n",
       "      <td>C:\\资料\\MUSA650\\Final\\EuroSAT\\2750\\River\\River_1.jpg</td>\n",
       "    </tr>\n",
       "    <tr>\n",
       "      <th>1</th>\n",
       "      <td>C:\\资料\\MUSA650\\Final\\EuroSAT\\2750\\River\\River_10.jpg</td>\n",
       "    </tr>\n",
       "    <tr>\n",
       "      <th>2</th>\n",
       "      <td>C:\\资料\\MUSA650\\Final\\EuroSAT\\2750\\River\\River_100.jpg</td>\n",
       "    </tr>\n",
       "    <tr>\n",
       "      <th>3</th>\n",
       "      <td>C:\\资料\\MUSA650\\Final\\EuroSAT\\2750\\River\\River_1000.jpg</td>\n",
       "    </tr>\n",
       "    <tr>\n",
       "      <th>4</th>\n",
       "      <td>C:\\资料\\MUSA650\\Final\\EuroSAT\\2750\\River\\River_1001.jpg</td>\n",
       "    </tr>\n",
       "  </tbody>\n",
       "</table>\n",
       "</div>"
      ],
      "text/plain": [
       "                                                    path\n",
       "0     C:\\资料\\MUSA650\\Final\\EuroSAT\\2750\\River\\River_1.jpg\n",
       "1    C:\\资料\\MUSA650\\Final\\EuroSAT\\2750\\River\\River_10.jpg\n",
       "2   C:\\资料\\MUSA650\\Final\\EuroSAT\\2750\\River\\River_100.jpg\n",
       "3  C:\\资料\\MUSA650\\Final\\EuroSAT\\2750\\River\\River_1000.jpg\n",
       "4  C:\\资料\\MUSA650\\Final\\EuroSAT\\2750\\River\\River_1001.jpg"
      ]
     },
     "execution_count": 6,
     "metadata": {},
     "output_type": "execute_result"
    }
   ],
   "source": [
    "df9.head()"
   ]
  },
  {
   "cell_type": "code",
   "execution_count": 7,
   "id": "74347c58",
   "metadata": {},
   "outputs": [
    {
     "data": {
      "text/plain": [
       "(64, 64, 3)"
      ]
     },
     "execution_count": 7,
     "metadata": {},
     "output_type": "execute_result"
    }
   ],
   "source": [
    "#Size of image\n",
    "img1 = np.asarray(imread(df1.path[0]))\n",
    "img1.shape"
   ]
  },
  {
   "cell_type": "code",
   "execution_count": 8,
   "id": "4a5da56b",
   "metadata": {},
   "outputs": [],
   "source": [
    "#make labels and categories\n",
    "df1[\"category\"] = \"AnnualCrop\"\n",
    "df1[\"label\"] = 0\n",
    "\n",
    "df2[\"category\"] = \"Forest\"\n",
    "df2[\"label\"] = 1\n",
    "\n",
    "df3[\"category\"] = \"HerbaceousVegetation\"\n",
    "df3[\"label\"] = 2\n",
    "\n",
    "df4[\"category\"] = \"Highway\"\n",
    "df4[\"label\"] = 3\n",
    "\n",
    "df5[\"category\"] = \"Industrial\"\n",
    "df5[\"label\"] = 4\n",
    "\n",
    "df6[\"category\"] = \"Pasture\"\n",
    "df6[\"label\"] = 5\n",
    "\n",
    "df7[\"category\"] = \"PermanentCrop\"\n",
    "df7[\"label\"] = 6\n",
    "\n",
    "df8[\"category\"] = \"Residential\"\n",
    "df8[\"label\"] = 7\n",
    "\n",
    "df9[\"category\"] = \"River\"\n",
    "df9[\"label\"] = 8\n",
    "\n",
    "df10[\"category\"] = \"SeaLake\"\n",
    "df10[\"label\"] = 9"
   ]
  },
  {
   "cell_type": "code",
   "execution_count": 9,
   "id": "ac8bf378",
   "metadata": {},
   "outputs": [
    {
     "data": {
      "text/html": [
       "<div>\n",
       "<style scoped>\n",
       "    .dataframe tbody tr th:only-of-type {\n",
       "        vertical-align: middle;\n",
       "    }\n",
       "\n",
       "    .dataframe tbody tr th {\n",
       "        vertical-align: top;\n",
       "    }\n",
       "\n",
       "    .dataframe thead th {\n",
       "        text-align: right;\n",
       "    }\n",
       "</style>\n",
       "<table border=\"1\" class=\"dataframe\">\n",
       "  <thead>\n",
       "    <tr style=\"text-align: right;\">\n",
       "      <th></th>\n",
       "      <th>path</th>\n",
       "      <th>category</th>\n",
       "      <th>label</th>\n",
       "    </tr>\n",
       "  </thead>\n",
       "  <tbody>\n",
       "    <tr>\n",
       "      <th>0</th>\n",
       "      <td>C:\\资料\\MUSA650\\Final\\EuroSAT\\2750\\River\\River_1.jpg</td>\n",
       "      <td>River</td>\n",
       "      <td>8</td>\n",
       "    </tr>\n",
       "    <tr>\n",
       "      <th>1</th>\n",
       "      <td>C:\\资料\\MUSA650\\Final\\EuroSAT\\2750\\River\\River_10.jpg</td>\n",
       "      <td>River</td>\n",
       "      <td>8</td>\n",
       "    </tr>\n",
       "    <tr>\n",
       "      <th>2</th>\n",
       "      <td>C:\\资料\\MUSA650\\Final\\EuroSAT\\2750\\River\\River_100.jpg</td>\n",
       "      <td>River</td>\n",
       "      <td>8</td>\n",
       "    </tr>\n",
       "    <tr>\n",
       "      <th>3</th>\n",
       "      <td>C:\\资料\\MUSA650\\Final\\EuroSAT\\2750\\River\\River_1000.jpg</td>\n",
       "      <td>River</td>\n",
       "      <td>8</td>\n",
       "    </tr>\n",
       "    <tr>\n",
       "      <th>4</th>\n",
       "      <td>C:\\资料\\MUSA650\\Final\\EuroSAT\\2750\\River\\River_1001.jpg</td>\n",
       "      <td>River</td>\n",
       "      <td>8</td>\n",
       "    </tr>\n",
       "  </tbody>\n",
       "</table>\n",
       "</div>"
      ],
      "text/plain": [
       "                                                    path category  label\n",
       "0     C:\\资料\\MUSA650\\Final\\EuroSAT\\2750\\River\\River_1.jpg    River      8\n",
       "1    C:\\资料\\MUSA650\\Final\\EuroSAT\\2750\\River\\River_10.jpg    River      8\n",
       "2   C:\\资料\\MUSA650\\Final\\EuroSAT\\2750\\River\\River_100.jpg    River      8\n",
       "3  C:\\资料\\MUSA650\\Final\\EuroSAT\\2750\\River\\River_1000.jpg    River      8\n",
       "4  C:\\资料\\MUSA650\\Final\\EuroSAT\\2750\\River\\River_1001.jpg    River      8"
      ]
     },
     "execution_count": 9,
     "metadata": {},
     "output_type": "execute_result"
    }
   ],
   "source": [
    "df9.head()"
   ]
  },
  {
   "cell_type": "code",
   "execution_count": 10,
   "id": "ca028efe",
   "metadata": {},
   "outputs": [],
   "source": [
    "#combine the dataset\n",
    "EuroSAT = pd.DataFrame().append([df1, df2, df3, df4, df5, df6, df7, df8, df9, df10])"
   ]
  },
  {
   "cell_type": "code",
   "execution_count": 11,
   "id": "45da8932",
   "metadata": {},
   "outputs": [
    {
     "data": {
      "text/plain": [
       "27000"
      ]
     },
     "execution_count": 11,
     "metadata": {},
     "output_type": "execute_result"
    }
   ],
   "source": [
    "len(EuroSAT)"
   ]
  },
  {
   "cell_type": "code",
   "execution_count": 12,
   "id": "89d9bda4",
   "metadata": {},
   "outputs": [],
   "source": [
    "X_data = EuroSAT[\"path\"]\n",
    "y_data = EuroSAT[\"label\"].values"
   ]
  },
  {
   "cell_type": "code",
   "execution_count": 13,
   "id": "35c5a7ea",
   "metadata": {},
   "outputs": [],
   "source": [
    "#Split the data into training (50%) and testing sets (50%)\n",
    "from sklearn.model_selection import train_test_split\n",
    "X_train, X_test,y_train, y_test = train_test_split(X_data, y_data, train_size=0.5, random_state=42)"
   ]
  },
  {
   "cell_type": "code",
   "execution_count": 14,
   "id": "c2cb6f74",
   "metadata": {},
   "outputs": [
    {
     "data": {
      "text/plain": [
       "(13500,)"
      ]
     },
     "execution_count": 14,
     "metadata": {},
     "output_type": "execute_result"
    }
   ],
   "source": [
    "X_train.shape"
   ]
  },
  {
   "cell_type": "code",
   "execution_count": 15,
   "id": "2e3f0761",
   "metadata": {},
   "outputs": [
    {
     "data": {
      "text/plain": [
       "(13500,)"
      ]
     },
     "execution_count": 15,
     "metadata": {},
     "output_type": "execute_result"
    }
   ],
   "source": [
    "y_train.shape"
   ]
  },
  {
   "cell_type": "markdown",
   "id": "2fcc850d",
   "metadata": {},
   "source": [
    "Convert Data to matrix"
   ]
  },
  {
   "cell_type": "code",
   "execution_count": 16,
   "id": "14d08456",
   "metadata": {},
   "outputs": [],
   "source": [
    "#Read all images in the training dataset and convert the data into matrix\n",
    "\n",
    "#get the shape of image\n",
    "img1 = imread(df1.path[0])\n",
    "img1_gray = rgb2gray(img1)\n",
    "img1_vec = img1_gray.flatten()\n",
    "\n",
    "dvec = img1_vec.shape[0]\n",
    "\n",
    "n = X_train.shape[0]\n",
    "\n",
    "mat_1D_train = np.zeros([n, dvec])\n",
    "\n",
    "#loop\n",
    "for i, tmpPath in enumerate(X_train.values):\n",
    "    img_rgb_All = imread(tmpPath)\n",
    "    img_gray_All = rgb2gray(img_rgb_All)\n",
    "    img_vec_All = img_gray_All.flatten()\n",
    "    mat_1D_train[i, :] = img_vec_All\n"
   ]
  },
  {
   "cell_type": "code",
   "execution_count": 17,
   "id": "73e821aa",
   "metadata": {},
   "outputs": [
    {
     "data": {
      "text/plain": [
       "(13500, 4096)"
      ]
     },
     "execution_count": 17,
     "metadata": {},
     "output_type": "execute_result"
    }
   ],
   "source": [
    "mat_1D_train.shape"
   ]
  },
  {
   "cell_type": "code",
   "execution_count": 18,
   "id": "4d756f6f",
   "metadata": {},
   "outputs": [],
   "source": [
    "#Read all images in the training dataset and convert the data into matrix\n",
    "\n",
    "#get the shape of image\n",
    "img1 = imread(df1.path[0])\n",
    "img1_gray = rgb2gray(img1)\n",
    "img1_vec = img1_gray.flatten()\n",
    "\n",
    "dvec = img1_vec.shape[0]\n",
    "\n",
    "n = X_test.shape[0]\n",
    "\n",
    "mat_1D_test = np.zeros([n, dvec])\n",
    "\n",
    "#loop\n",
    "for i, tmpPath in enumerate(X_test.values):\n",
    "    img_rgb_All = imread(tmpPath)\n",
    "    img_gray_All = rgb2gray(img_rgb_All)\n",
    "    img_vec_All = img_gray_All.flatten()\n",
    "    mat_1D_test[i, :] = img_vec_All\n"
   ]
  },
  {
   "cell_type": "code",
   "execution_count": 19,
   "id": "8f88a213",
   "metadata": {},
   "outputs": [
    {
     "data": {
      "text/plain": [
       "(13500, 4096)"
      ]
     },
     "execution_count": 19,
     "metadata": {},
     "output_type": "execute_result"
    }
   ],
   "source": [
    "mat_1D_test.shape"
   ]
  },
  {
   "cell_type": "markdown",
   "id": "c31e412b",
   "metadata": {},
   "source": [
    "Fully Connected Architecture\n",
    "\n",
    "<br>\n",
    "\n",
    "reference:https://medium.com/swlh/fully-connected-vs-convolutional-neural-networks-813ca7bc6ee5"
   ]
  },
  {
   "cell_type": "code",
   "execution_count": 20,
   "id": "02d622cc",
   "metadata": {},
   "outputs": [],
   "source": [
    "model = Sequential()\n",
    "\n",
    "model.add(Dense(256, input_dim=64*64, activation='relu'))\n",
    "model.add(Dense(256, activation='relu'))\n",
    "model.add(Dense(128, activation='relu'))\n",
    "model.add(Dense(32, activation='relu'))\n",
    "model.add(Dense(10, activation='softmax'))"
   ]
  },
  {
   "cell_type": "code",
   "execution_count": 21,
   "id": "4f70e4d4",
   "metadata": {},
   "outputs": [],
   "source": [
    "model.compile(\n",
    "    loss='categorical_crossentropy',\n",
    "    optimizer='rmsprop',\n",
    "    metrics=['accuracy'])"
   ]
  },
  {
   "cell_type": "code",
   "execution_count": 22,
   "id": "c7172276",
   "metadata": {},
   "outputs": [
    {
     "name": "stdout",
     "output_type": "stream",
     "text": [
      "Model: \"sequential\"\n",
      "_________________________________________________________________\n",
      "Layer (type)                 Output Shape              Param #   \n",
      "=================================================================\n",
      "dense (Dense)                (None, 256)               1048832   \n",
      "_________________________________________________________________\n",
      "dense_1 (Dense)              (None, 256)               65792     \n",
      "_________________________________________________________________\n",
      "dense_2 (Dense)              (None, 128)               32896     \n",
      "_________________________________________________________________\n",
      "dense_3 (Dense)              (None, 32)                4128      \n",
      "_________________________________________________________________\n",
      "dense_4 (Dense)              (None, 10)                330       \n",
      "=================================================================\n",
      "Total params: 1,151,978\n",
      "Trainable params: 1,151,978\n",
      "Non-trainable params: 0\n",
      "_________________________________________________________________\n",
      "None\n"
     ]
    }
   ],
   "source": [
    "print(model.summary())"
   ]
  },
  {
   "cell_type": "code",
   "execution_count": 23,
   "id": "e3e2a219",
   "metadata": {},
   "outputs": [
    {
     "data": {
      "text/plain": [
       "(13500, 4096)"
      ]
     },
     "execution_count": 23,
     "metadata": {},
     "output_type": "execute_result"
    }
   ],
   "source": [
    "mat_1D_train.shape"
   ]
  },
  {
   "cell_type": "code",
   "execution_count": 24,
   "id": "451fef0e",
   "metadata": {},
   "outputs": [],
   "source": [
    "from keras.utils import to_categorical\n",
    "\n",
    "y_train_labels = to_categorical(y_train)"
   ]
  },
  {
   "cell_type": "code",
   "execution_count": 25,
   "id": "84783d60",
   "metadata": {},
   "outputs": [],
   "source": [
    "y_test_labels = to_categorical(y_test)"
   ]
  },
  {
   "cell_type": "code",
   "execution_count": 26,
   "id": "88dded5f",
   "metadata": {},
   "outputs": [
    {
     "data": {
      "text/plain": [
       "array([[0., 0., 0., ..., 0., 0., 0.],\n",
       "       [0., 0., 0., ..., 0., 0., 1.],\n",
       "       [0., 0., 0., ..., 0., 1., 0.],\n",
       "       ...,\n",
       "       [1., 0., 0., ..., 0., 0., 0.],\n",
       "       [0., 0., 0., ..., 0., 0., 0.],\n",
       "       [0., 0., 0., ..., 0., 1., 0.]], dtype=float32)"
      ]
     },
     "execution_count": 26,
     "metadata": {},
     "output_type": "execute_result"
    }
   ],
   "source": [
    "y_train_labels"
   ]
  },
  {
   "cell_type": "code",
   "execution_count": 27,
   "id": "bcc30242",
   "metadata": {},
   "outputs": [
    {
     "data": {
      "text/plain": [
       "(13500, 10)"
      ]
     },
     "execution_count": 27,
     "metadata": {},
     "output_type": "execute_result"
    }
   ],
   "source": [
    "y_train_labels.shape"
   ]
  },
  {
   "cell_type": "code",
   "execution_count": 28,
   "id": "7c977b5f",
   "metadata": {},
   "outputs": [
    {
     "name": "stdout",
     "output_type": "stream",
     "text": [
      "Epoch 1/18\n",
      "338/338 - 3s - loss: 2.3145 - accuracy: 0.1088 - val_loss: 2.2968 - val_accuracy: 0.1081\n",
      "Epoch 2/18\n",
      "338/338 - 3s - loss: 2.2967 - accuracy: 0.1122 - val_loss: 2.2946 - val_accuracy: 0.1081\n",
      "Epoch 3/18\n",
      "338/338 - 3s - loss: 2.2958 - accuracy: 0.1121 - val_loss: 2.2938 - val_accuracy: 0.1144\n",
      "Epoch 4/18\n",
      "338/338 - 3s - loss: 2.2955 - accuracy: 0.1113 - val_loss: 2.2935 - val_accuracy: 0.1081\n",
      "Epoch 5/18\n",
      "338/338 - 3s - loss: 2.2954 - accuracy: 0.1133 - val_loss: 2.2933 - val_accuracy: 0.1081\n",
      "Epoch 6/18\n",
      "338/338 - 3s - loss: 2.2953 - accuracy: 0.1138 - val_loss: 2.2933 - val_accuracy: 0.1081\n",
      "Epoch 7/18\n",
      "338/338 - 3s - loss: 2.2954 - accuracy: 0.1138 - val_loss: 2.2932 - val_accuracy: 0.1081\n",
      "Epoch 8/18\n",
      "338/338 - 3s - loss: 2.2953 - accuracy: 0.1117 - val_loss: 2.2931 - val_accuracy: 0.1081\n",
      "Epoch 9/18\n",
      "338/338 - 3s - loss: 2.2954 - accuracy: 0.1134 - val_loss: 2.2931 - val_accuracy: 0.1081\n",
      "Epoch 10/18\n",
      "338/338 - 3s - loss: 2.2954 - accuracy: 0.1120 - val_loss: 2.2931 - val_accuracy: 0.1081\n",
      "Epoch 11/18\n",
      "338/338 - 3s - loss: 2.2954 - accuracy: 0.1120 - val_loss: 2.2933 - val_accuracy: 0.1081\n",
      "Epoch 12/18\n",
      "338/338 - 3s - loss: 2.2954 - accuracy: 0.1136 - val_loss: 2.2932 - val_accuracy: 0.1081\n",
      "Epoch 13/18\n",
      "338/338 - 3s - loss: 2.2954 - accuracy: 0.1134 - val_loss: 2.2932 - val_accuracy: 0.1081\n",
      "Epoch 14/18\n",
      "338/338 - 3s - loss: 2.2954 - accuracy: 0.1138 - val_loss: 2.2931 - val_accuracy: 0.1081\n",
      "Epoch 15/18\n",
      "338/338 - 3s - loss: 2.2954 - accuracy: 0.1138 - val_loss: 2.2931 - val_accuracy: 0.1081\n",
      "Epoch 16/18\n",
      "338/338 - 3s - loss: 2.2953 - accuracy: 0.1138 - val_loss: 2.2931 - val_accuracy: 0.1081\n",
      "Epoch 17/18\n",
      "338/338 - 3s - loss: 2.2954 - accuracy: 0.1119 - val_loss: 2.2930 - val_accuracy: 0.1081\n",
      "Epoch 18/18\n",
      "338/338 - 3s - loss: 2.2954 - accuracy: 0.1138 - val_loss: 2.2930 - val_accuracy: 0.1081\n"
     ]
    },
    {
     "data": {
      "text/plain": [
       "<tensorflow.python.keras.callbacks.History at 0x199f66d3b20>"
      ]
     },
     "execution_count": 28,
     "metadata": {},
     "output_type": "execute_result"
    }
   ],
   "source": [
    "# training\n",
    "model.fit(\n",
    "    mat_1D_train, \n",
    "    y_train_labels,\n",
    "    batch_size=32,\n",
    "    epochs=18,\n",
    "    validation_split=0.2,\n",
    "    shuffle=True,\n",
    "    verbose=2)"
   ]
  },
  {
   "cell_type": "code",
   "execution_count": 30,
   "id": "a0360fbe",
   "metadata": {},
   "outputs": [],
   "source": [
    "history = model.fit(\n",
    "    mat_1D_train, y_train_labels,\n",
    "    validation_data=(mat_1D_test, y_test_labels),\n",
    "    batch_size=32,\n",
    "    epochs=18,\n",
    "    verbose=0,  # turn off training log\n",
    ")\n"
   ]
  },
  {
   "cell_type": "code",
   "execution_count": 33,
   "id": "1a22027e",
   "metadata": {},
   "outputs": [
    {
     "data": {
      "text/plain": [
       "Text(0.5, 1.0, 'Result of Fully Connected Network')"
      ]
     },
     "execution_count": 33,
     "metadata": {},
     "output_type": "execute_result"
    },
    {
     "data": {
      "image/png": "[encoded data removed]",
      "text/plain": [
       "<Figure size 432x288 with 1 Axes>"
      ]
     },
     "metadata": {
      "needs_background": "light"
     },
     "output_type": "display_data"
    }
   ],
   "source": [
    "history_df = pd.DataFrame(history.history)\n",
    "history_df.loc[:, ['accuracy', 'val_accuracy']].plot();\n",
    "plt.title(\"Result of Fully Connected Network\")"
   ]
  },
  {
   "cell_type": "code",
   "execution_count": 112,
   "id": "5fcdc292",
   "metadata": {},
   "outputs": [
    {
     "name": "stdout",
     "output_type": "stream",
     "text": [
      "Minimum validation loss: 2.2948193550109863\n"
     ]
    },
    {
     "data": {
      "image/png": "[encoded data removed]",
      "text/plain": [
       "<Figure size 432x288 with 1 Axes>"
      ]
     },
     "metadata": {
      "needs_background": "light"
     },
     "output_type": "display_data"
    }
   ],
   "source": [
    "history_df = pd.DataFrame(history.history)\n",
    "history_df.loc[:, ['loss', 'val_loss']].plot();\n",
    "print(\"Minimum validation loss: {}\".format(history_df['val_loss'].min()))"
   ]
  },
  {
   "cell_type": "markdown",
   "id": "4b1152ca",
   "metadata": {},
   "source": [
    "SVC"
   ]
  },
  {
   "cell_type": "code",
   "execution_count": 59,
   "id": "9d29c9c7",
   "metadata": {},
   "outputs": [],
   "source": [
    "from sklearn.svm import SVC\n",
    "svc=SVC()"
   ]
  },
  {
   "cell_type": "code",
   "execution_count": 61,
   "id": "ac6edc36",
   "metadata": {},
   "outputs": [
    {
     "data": {
      "text/plain": [
       "SVC()"
      ]
     },
     "execution_count": 61,
     "metadata": {},
     "output_type": "execute_result"
    }
   ],
   "source": [
    "#train the model\n",
    "svc.fit(mat_1D_train, y_train)"
   ]
  },
  {
   "cell_type": "code",
   "execution_count": 62,
   "id": "526ec9fd",
   "metadata": {},
   "outputs": [],
   "source": [
    "#Training accuracy\n",
    "y_pred_train = svc.predict(mat_1D_train)"
   ]
  },
  {
   "cell_type": "code",
   "execution_count": 63,
   "id": "7f1a7436",
   "metadata": {},
   "outputs": [
    {
     "name": "stdout",
     "output_type": "stream",
     "text": [
      "Training accuracy = 0.6181481481481481\n"
     ]
    }
   ],
   "source": [
    "from sklearn.metrics import accuracy_score\n",
    "print ('Training accuracy =', accuracy_score(y_train, y_pred_train))"
   ]
  },
  {
   "cell_type": "code",
   "execution_count": 64,
   "id": "58a1ca9f",
   "metadata": {},
   "outputs": [
    {
     "name": "stdout",
     "output_type": "stream",
     "text": [
      "              precision    recall  f1-score   support\n",
      "\n",
      "           0       0.64      0.70      0.67      1521\n",
      "           1       0.62      0.89      0.73      1486\n",
      "           2       0.39      0.30      0.34      1464\n",
      "           3       0.74      0.39      0.51      1256\n",
      "           4       0.91      0.94      0.92      1270\n",
      "           5       0.36      0.62      0.45       972\n",
      "           6       0.65      0.50      0.56      1262\n",
      "           7       0.66      0.79      0.72      1468\n",
      "           8       0.59      0.54      0.57      1275\n",
      "           9       0.77      0.48      0.59      1526\n",
      "\n",
      "    accuracy                           0.62     13500\n",
      "   macro avg       0.63      0.62      0.61     13500\n",
      "weighted avg       0.64      0.62      0.61     13500\n",
      "\n"
     ]
    }
   ],
   "source": [
    "from sklearn.metrics import classification_report\n",
    "print(classification_report(y_train, y_pred_train))"
   ]
  },
  {
   "cell_type": "code",
   "execution_count": 65,
   "id": "76374bd1",
   "metadata": {},
   "outputs": [],
   "source": [
    "#testing accuracy\n",
    "y_pred_test = svc.predict(mat_1D_test)"
   ]
  },
  {
   "cell_type": "code",
   "execution_count": 66,
   "id": "c629c41b",
   "metadata": {},
   "outputs": [
    {
     "name": "stdout",
     "output_type": "stream",
     "text": [
      "Testing accuracy = 0.4958518518518519\n"
     ]
    }
   ],
   "source": [
    "from sklearn.metrics import accuracy_score\n",
    "print ('Testing accuracy =', accuracy_score(y_test, y_pred_test))"
   ]
  },
  {
   "cell_type": "code",
   "execution_count": 67,
   "id": "a34e7bc0",
   "metadata": {},
   "outputs": [
    {
     "name": "stdout",
     "output_type": "stream",
     "text": [
      "              precision    recall  f1-score   support\n",
      "\n",
      "           0       0.46      0.57      0.51      1479\n",
      "           1       0.62      0.87      0.73      1514\n",
      "           2       0.24      0.18      0.21      1536\n",
      "           3       0.47      0.19      0.27      1244\n",
      "           4       0.74      0.85      0.79      1230\n",
      "           5       0.34      0.59      0.43      1028\n",
      "           6       0.35      0.25      0.29      1238\n",
      "           7       0.50      0.53      0.52      1532\n",
      "           8       0.44      0.43      0.44      1225\n",
      "           9       0.73      0.48      0.58      1474\n",
      "\n",
      "    accuracy                           0.50     13500\n",
      "   macro avg       0.49      0.49      0.48     13500\n",
      "weighted avg       0.49      0.50      0.48     13500\n",
      "\n"
     ]
    }
   ],
   "source": [
    "from sklearn.metrics import classification_report\n",
    "print(classification_report(y_test, y_pred_test))"
   ]
  },
  {
   "cell_type": "markdown",
   "id": "a236ac4a",
   "metadata": {},
   "source": [
    "CNN"
   ]
  },
  {
   "cell_type": "code",
   "execution_count": 27,
   "id": "abc46d8f",
   "metadata": {},
   "outputs": [],
   "source": [
    "#read images without vectorize them\n",
    "num = X_train.shape[0]\n",
    "dim_train = np.zeros([num, 64, 64, 3])\n",
    "\n",
    "#loop\n",
    "for i, tmpPath in enumerate(X_train.values):\n",
    "    img_rgb_train = imread(tmpPath)\n",
    "    dim_train[i, :, :, :] = img_rgb_train"
   ]
  },
  {
   "cell_type": "code",
   "execution_count": 28,
   "id": "df990409",
   "metadata": {},
   "outputs": [
    {
     "data": {
      "text/plain": [
       "(13500, 64, 64, 3)"
      ]
     },
     "execution_count": 28,
     "metadata": {},
     "output_type": "execute_result"
    }
   ],
   "source": [
    "dim_train.shape"
   ]
  },
  {
   "cell_type": "code",
   "execution_count": 29,
   "id": "f1bc082f",
   "metadata": {},
   "outputs": [],
   "source": [
    "#read images without vectorize them\n",
    "num = X_train.shape[0]\n",
    "dim_test = np.zeros([num, 64, 64, 3])\n",
    "\n",
    "#loop\n",
    "for i, tmpPath in enumerate(X_test.values):\n",
    "    img_rgb_train = imread(tmpPath)\n",
    "    dim_test[i, :, :, :] = img_rgb_train"
   ]
  },
  {
   "cell_type": "code",
   "execution_count": 30,
   "id": "0df8a409",
   "metadata": {},
   "outputs": [
    {
     "data": {
      "text/plain": [
       "(13500, 64, 64, 3)"
      ]
     },
     "execution_count": 30,
     "metadata": {},
     "output_type": "execute_result"
    }
   ],
   "source": [
    "dim_test.shape"
   ]
  },
  {
   "cell_type": "code",
   "execution_count": 31,
   "id": "018a18a3",
   "metadata": {},
   "outputs": [],
   "source": [
    "#change labels to categorical\n",
    "from keras.utils import to_categorical\n",
    "\n",
    "y_train_labels = to_categorical(y_train)\n",
    "y_test_labels = to_categorical(y_test)"
   ]
  },
  {
   "cell_type": "code",
   "execution_count": 32,
   "id": "f7f11437",
   "metadata": {},
   "outputs": [
    {
     "data": {
      "text/plain": [
       "array([[0., 0., 0., ..., 0., 0., 0.],\n",
       "       [0., 0., 0., ..., 0., 0., 1.],\n",
       "       [0., 0., 0., ..., 0., 1., 0.],\n",
       "       ...,\n",
       "       [1., 0., 0., ..., 0., 0., 0.],\n",
       "       [0., 0., 0., ..., 0., 0., 0.],\n",
       "       [0., 0., 0., ..., 0., 1., 0.]], dtype=float32)"
      ]
     },
     "execution_count": 32,
     "metadata": {},
     "output_type": "execute_result"
    }
   ],
   "source": [
    "y_train_labels"
   ]
  },
  {
   "cell_type": "code",
   "execution_count": 24,
   "id": "28caeccb",
   "metadata": {},
   "outputs": [],
   "source": [
    "#Simple CNN\n",
    "\n",
    "model = Sequential()\n",
    "model.add(Conv2D(32, kernel_size=(3, 3),\n",
    "                 activation='relu',\n",
    "                 input_shape=(64, 64, 3)))\n",
    "model.add(Conv2D(64, (3, 3), activation='relu'))\n",
    "model.add(MaxPooling2D(pool_size=(2, 2)))\n",
    "model.add(Dropout(0.25))\n",
    "model.add(Flatten())\n",
    "model.add(Dense(128, activation='relu'))\n",
    "model.add(Dropout(0.5))\n",
    "model.add(Dense(10, activation='softmax'))"
   ]
  },
  {
   "cell_type": "code",
   "execution_count": 25,
   "id": "058db1f9",
   "metadata": {},
   "outputs": [
    {
     "name": "stdout",
     "output_type": "stream",
     "text": [
      "Model: \"sequential_2\"\n",
      "_________________________________________________________________\n",
      "Layer (type)                 Output Shape              Param #   \n",
      "=================================================================\n",
      "conv2d_2 (Conv2D)            (None, 62, 62, 32)        896       \n",
      "_________________________________________________________________\n",
      "conv2d_3 (Conv2D)            (None, 60, 60, 64)        18496     \n",
      "_________________________________________________________________\n",
      "max_pooling2d_1 (MaxPooling2 (None, 30, 30, 64)        0         \n",
      "_________________________________________________________________\n",
      "dropout_2 (Dropout)          (None, 30, 30, 64)        0         \n",
      "_________________________________________________________________\n",
      "flatten_1 (Flatten)          (None, 57600)             0         \n",
      "_________________________________________________________________\n",
      "dense_1 (Dense)              (None, 128)               7372928   \n",
      "_________________________________________________________________\n",
      "dropout_3 (Dropout)          (None, 128)               0         \n",
      "_________________________________________________________________\n",
      "dense_2 (Dense)              (None, 10)                1290      \n",
      "=================================================================\n",
      "Total params: 7,393,610\n",
      "Trainable params: 7,393,610\n",
      "Non-trainable params: 0\n",
      "_________________________________________________________________\n",
      "None\n"
     ]
    }
   ],
   "source": [
    "print(model.summary())"
   ]
  },
  {
   "cell_type": "code",
   "execution_count": 33,
   "id": "ad66cdc0",
   "metadata": {},
   "outputs": [],
   "source": [
    "model.compile(loss=keras.losses.categorical_crossentropy,\n",
    "              optimizer=keras.optimizers.Adadelta(),\n",
    "              metrics=['accuracy'])"
   ]
  },
  {
   "cell_type": "code",
   "execution_count": 34,
   "id": "27529987",
   "metadata": {},
   "outputs": [
    {
     "name": "stdout",
     "output_type": "stream",
     "text": [
      "Epoch 1/12\n",
      "106/106 [==============================] - 103s 971ms/step - loss: 25.9513 - accuracy: 0.1189 - val_loss: 2.5726 - val_accuracy: 0.2006\n",
      "Epoch 2/12\n",
      "106/106 [==============================] - 111s 1s/step - loss: 5.9322 - accuracy: 0.1201 - val_loss: 2.3034 - val_accuracy: 0.1144\n",
      "Epoch 3/12\n",
      "106/106 [==============================] - 111s 1s/step - loss: 2.8681 - accuracy: 0.1242 - val_loss: 2.3029 - val_accuracy: 0.1093\n",
      "Epoch 4/12\n",
      "106/106 [==============================] - 113s 1s/step - loss: 2.4866 - accuracy: 0.1233 - val_loss: 2.3026 - val_accuracy: 0.1093\n",
      "Epoch 5/12\n",
      "106/106 [==============================] - 109s 1s/step - loss: 2.3760 - accuracy: 0.1206 - val_loss: 2.3026 - val_accuracy: 0.1092\n",
      "Epoch 6/12\n",
      "106/106 [==============================] - 101s 952ms/step - loss: 2.3506 - accuracy: 0.1173 - val_loss: 2.3026 - val_accuracy: 0.1092\n",
      "Epoch 7/12\n",
      "106/106 [==============================] - 103s 968ms/step - loss: 2.3366 - accuracy: 0.1156 - val_loss: 2.3025 - val_accuracy: 0.1092\n",
      "Epoch 8/12\n",
      "106/106 [==============================] - 104s 980ms/step - loss: 2.3280 - accuracy: 0.1152 - val_loss: 2.3024 - val_accuracy: 0.1092\n",
      "Epoch 9/12\n",
      "106/106 [==============================] - 102s 966ms/step - loss: 2.3171 - accuracy: 0.1145 - val_loss: 2.3017 - val_accuracy: 0.1092\n",
      "Epoch 10/12\n",
      "106/106 [==============================] - 102s 963ms/step - loss: 2.3152 - accuracy: 0.1150 - val_loss: 2.3014 - val_accuracy: 0.1092\n",
      "Epoch 11/12\n",
      "106/106 [==============================] - 105s 989ms/step - loss: 2.3095 - accuracy: 0.1155 - val_loss: 2.3013 - val_accuracy: 0.1092\n",
      "Epoch 12/12\n",
      "106/106 [==============================] - 119s 1s/step - loss: 2.3060 - accuracy: 0.1221 - val_loss: 2.2939 - val_accuracy: 0.1351\n"
     ]
    },
    {
     "data": {
      "text/plain": [
       "<tensorflow.python.keras.callbacks.History at 0x2a47a1692b0>"
      ]
     },
     "execution_count": 34,
     "metadata": {},
     "output_type": "execute_result"
    }
   ],
   "source": [
    "model.fit(dim_train, y_train_labels,\n",
    "          batch_size=128,\n",
    "          epochs=12,\n",
    "          verbose=1,\n",
    "          validation_data=(dim_test, y_test_labels))"
   ]
  },
  {
   "cell_type": "code",
   "execution_count": 35,
   "id": "d803757d",
   "metadata": {},
   "outputs": [
    {
     "name": "stdout",
     "output_type": "stream",
     "text": [
      "Test loss: 2.2938642501831055\n",
      "Test accuracy: 0.13511110842227936\n"
     ]
    }
   ],
   "source": [
    "score = model.evaluate(dim_test, y_test_labels, verbose=0)\n",
    "print('Test loss:', score[0])\n",
    "print('Test accuracy:', score[1])"
   ]
  },
  {
   "cell_type": "code",
   "execution_count": null,
   "id": "647afd9f",
   "metadata": {},
   "outputs": [],
   "source": []
  }
 ],
 "metadata": {
  "kernelspec": {
   "display_name": "Python 3",
   "language": "python",
   "name": "python3"
  },
  "language_info": {
   "codemirror_mode": {
    "name": "ipython",
    "version": 3
   },
   "file_extension": ".py",
   "mimetype": "text/x-python",
   "name": "python",
   "nbconvert_exporter": "python",
   "pygments_lexer": "ipython3",
   "version": "3.8.8"
  }
 },
 "nbformat": 4,
 "nbformat_minor": 5
}
