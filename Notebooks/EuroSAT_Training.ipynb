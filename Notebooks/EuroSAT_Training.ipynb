{
  "nbformat": 4,
  "nbformat_minor": 0,
  "metadata": {
    "colab": {
      "name": "EuroSAT-Training.ipynb",
      "provenance": [],
      "collapsed_sections": []
    },
    "kernelspec": {
      "name": "python3",
      "display_name": "Python 3"
    },
    "language_info": {
      "name": "python"
    }
  },
  "cells": [
    {
      "cell_type": "markdown",
      "metadata": {
        "id": "qxdCvDzKhiGN"
      },
      "source": [
        "## **Notebook Setup**"
      ]
    },
    {
      "cell_type": "code",
      "metadata": {
        "colab": {
          "base_uri": "https://localhost:8080/"
        },
        "id": "fedSHopffUkd",
        "outputId": "2aedafbb-f37e-474a-89a7-837edc85cb34"
      },
      "source": [
        "from google.colab import drive\n",
        "drive.mount('/content/drive')"
      ],
      "execution_count": 2,
      "outputs": [
        {
          "output_type": "stream",
          "text": [
            "Mounted at /content/drive\n"
          ],
          "name": "stdout"
        }
      ]
    },
    {
      "cell_type": "code",
      "metadata": {
        "id": "n1rPxnvrhgmd"
      },
      "source": [
        "import random # for random value\n",
        "import numpy as np # linear algebra\n",
        "import pandas as pd # data processing, CSV file I/O (e.g. pd.read_csv)\n",
        "import matplotlib.pyplot as plt # plotting \n",
        "from PIL import Image # Image processing\n",
        "import json  #json file I/O\n",
        "#from mpl_toolkits.basemap import Basemap"
      ],
      "execution_count": 4,
      "outputs": []
    },
    {
      "cell_type": "code",
      "metadata": {
        "id": "mzE92rAaiO66"
      },
      "source": [
        "from keras.models import Sequential\n",
        "from keras.layers import Dense, Flatten, Activation\n",
        "from keras.layers import Dropout\n",
        "from keras.layers.convolutional import Conv2D, MaxPooling2D\n",
        "from keras.utils import np_utils\n",
        "from keras.optimizers import SGD\n",
        "import keras.callbacks"
      ],
      "execution_count": 5,
      "outputs": []
    },
    {
      "cell_type": "code",
      "metadata": {
        "id": "jsnLD0EhfaRx"
      },
      "source": [
        "import tifffile as tiff\n",
        "import time "
      ],
      "execution_count": 16,
      "outputs": []
    },
    {
      "cell_type": "code",
      "metadata": {
        "id": "O0nA3A1WiQcZ"
      },
      "source": [
        "from pathlib import Path\n",
        "from skimage.io import imread\n",
        "from skimage.color import rgb2gray"
      ],
      "execution_count": 6,
      "outputs": []
    },
    {
      "cell_type": "code",
      "metadata": {
        "colab": {
          "base_uri": "https://localhost:8080/"
        },
        "id": "CitAl5LRlfrO",
        "outputId": "85c299bd-c582-48cb-e1b7-08fabd324b08"
      },
      "source": [
        "# set up too see all contents\n",
        "# reference: https://stackoverflow.com/questions/60013721/how-to-see-complete-rows-in-google-colab\n",
        "pd.set_option('max_rows', 99999)\n",
        "pd.set_option('max_colwidth', 400)\n",
        "pd.describe_option('max_colwidth')"
      ],
      "execution_count": 19,
      "outputs": [
        {
          "output_type": "stream",
          "text": [
            "display.max_colwidth : int or None\n",
            "    The maximum width in characters of a column in the repr of\n",
            "    a pandas data structure. When the column overflows, a \"...\"\n",
            "    placeholder is embedded in the output. A 'None' value means unlimited.\n",
            "    [default: 50] [currently: 400]\n"
          ],
          "name": "stdout"
        }
      ]
    },
    {
      "cell_type": "markdown",
      "metadata": {
        "id": "XfvCpyDghNIH"
      },
      "source": [
        "## **Prepare Data**"
      ]
    },
    {
      "cell_type": "markdown",
      "metadata": {
        "id": "3RWxfwa5hWKH"
      },
      "source": [
        "Unzip EuroSAT Images (ONLY NEED TO RUN ONCE)"
      ]
    },
    {
      "cell_type": "code",
      "metadata": {
        "id": "6FVoyeXggFO0"
      },
      "source": [
        "# Unzip the EuroSAT images (27000)\n",
        "# !unzip '/content/drive/My Drive/MUSA650-Spring2021/MUSA650-Final-Project/EuroSAT.zip' -d '/content/drive/My Drive/MUSA650-Spring2021/MUSA650-Final-Project/EuroSATImg'"
      ],
      "execution_count": null,
      "outputs": []
    },
    {
      "cell_type": "markdown",
      "metadata": {
        "id": "uC7TJm1Eh3Jc"
      },
      "source": [
        "Import EuroSAT Images"
      ]
    },
    {
      "cell_type": "code",
      "metadata": {
        "id": "QuNMU3Aoi7Ka"
      },
      "source": [
        "BDIR = '/content/drive/My Drive/MUSA650-Spring2021/MUSA650-Final-Project/EuroSATImg'\n",
        "ac = Path(BDIR+r\"/2750/AnnualCrop\")\n",
        "df1 = pd.DataFrame({'path': list(ac.glob('**/*.jp*g'))})\n",
        "df1"
      ],
      "execution_count": null,
      "outputs": []
    },
    {
      "cell_type": "code",
      "metadata": {
        "colab": {
          "base_uri": "https://localhost:8080/"
        },
        "id": "J22YJUKRg4mu",
        "outputId": "760b8ac0-10ec-4290-820e-c3fc59571a9a"
      },
      "source": [
        "# Set Up Base Directory\n",
        "BDIR = '/content/drive/My Drive/MUSA650-Spring2021/MUSA650-Final-Project/EuroSATImg'\n",
        "\n",
        "print('[INFO] Loading EuroSAT Images ...')\n",
        "start = time.time()\n",
        "\n",
        "# Load Images From Directories of Each Category\n",
        "ac = Path(BDIR + r\"/2750/AnnualCrop\")\n",
        "df1 = pd.DataFrame({'path': list(ac.glob('**/*.jp*g'))})\n",
        "\n",
        "fo = Path(BDIR + r\"/2750/Forest\")\n",
        "df2 = pd.DataFrame({'path': list(fo.glob('**/*.jp*g'))})\n",
        "\n",
        "hv = Path(BDIR + r\"/2750/HerbaceousVegetation\")\n",
        "df3 = pd.DataFrame({'path': list(hv.glob('**/*.jp*g'))})\n",
        "\n",
        "hw = Path(BDIR + r\"/2750/Highway\")\n",
        "df4 = pd.DataFrame({'path': list(hw.glob('**/*.jp*g'))})\n",
        "\n",
        "ind = Path(BDIR + r\"/2750/Industrial\")\n",
        "df5 = pd.DataFrame({'path': list(ind.glob('**/*.jp*g'))})\n",
        "\n",
        "pas = Path(BDIR + r\"/2750/Pasture\")\n",
        "df6 = pd.DataFrame({'path': list(pas.glob('**/*.jp*g'))})\n",
        "\n",
        "pc = Path(BDIR + r\"/2750/PermanentCrop\")\n",
        "df7 = pd.DataFrame({'path': list(pc.glob('**/*.jp*g'))})\n",
        "\n",
        "res = Path(BDIR + r\"/2750/Residential\")\n",
        "df8 = pd.DataFrame({'path': list(res.glob('**/*.jp*g'))})\n",
        "\n",
        "riv = Path(BDIR + r\"/2750/River\")\n",
        "df9 = pd.DataFrame({'path': list(riv.glob('**/*.jp*g'))})\n",
        "\n",
        "sl = Path(BDIR + r\"/2750/SeaLake\")\n",
        "df10 = pd.DataFrame({'path': list(sl.glob('**/*.jp*g'))})\n",
        "\n",
        "end = time.time()\n",
        "print('[INFO] Loading EuroSAT Images took {} seconds'.format(end-start))"
      ],
      "execution_count": 17,
      "outputs": [
        {
          "output_type": "stream",
          "text": [
            "[INFO] Loading EuroSAT Images ...\n",
            "[INFO] Loading EuroSAT Images took 0.6513419151306152 seconds\n"
          ],
          "name": "stdout"
        }
      ]
    },
    {
      "cell_type": "code",
      "metadata": {
        "colab": {
          "base_uri": "https://localhost:8080/"
        },
        "id": "VR8YXLJ4lZUV",
        "outputId": "2fe99545-be9a-4db9-c498-a34c1f4a97e4"
      },
      "source": [
        "df1.shape"
      ],
      "execution_count": 27,
      "outputs": [
        {
          "output_type": "execute_result",
          "data": {
            "text/plain": [
              "(3000, 1)"
            ]
          },
          "metadata": {
            "tags": []
          },
          "execution_count": 27
        }
      ]
    },
    {
      "cell_type": "code",
      "metadata": {
        "colab": {
          "base_uri": "https://localhost:8080/"
        },
        "id": "fuc0p-ZpmFWc",
        "outputId": "e8cfcd3a-d687-4fac-948e-c3e3e7ab713d"
      },
      "source": [
        "# Label Images\n",
        "\n",
        "print('[INFO] Labeling EuroSAT Images ...')\n",
        "start = time.time()\n",
        "\n",
        "df1[\"category\"] = \"AnnualCrop\"\n",
        "df1[\"label\"] = 0\n",
        "\n",
        "df2[\"category\"] = \"Forest\"\n",
        "df2[\"label\"] = 1\n",
        "\n",
        "df3[\"category\"] = \"HerbaceousVegetation\"\n",
        "df3[\"label\"] = 2\n",
        "\n",
        "df4[\"category\"] = \"Highway\"\n",
        "df4[\"label\"] = 3\n",
        "\n",
        "df5[\"category\"] = \"Industrial\"\n",
        "df5[\"label\"] = 4\n",
        "\n",
        "df6[\"category\"] = \"Pasture\"\n",
        "df6[\"label\"] = 5\n",
        "\n",
        "df7[\"category\"] = \"PermanentCrop\"\n",
        "df7[\"label\"] = 6\n",
        "\n",
        "df8[\"category\"] = \"Residential\"\n",
        "df8[\"label\"] = 7\n",
        "\n",
        "df9[\"category\"] = \"River\"\n",
        "df9[\"label\"] = 8\n",
        "\n",
        "df10[\"category\"] = \"SeaLake\"\n",
        "df10[\"label\"] = 9\n",
        "\n",
        "end = time.time()\n",
        "print('[INFO] Labeling EuroSAT Images took {} seconds'.format(end-start))"
      ],
      "execution_count": 28,
      "outputs": [
        {
          "output_type": "stream",
          "text": [
            "[INFO] Labeling EuroSAT Images ...\n",
            "[INFO] Labeling EuroSAT Images took 0.009362220764160156 seconds\n"
          ],
          "name": "stdout"
        }
      ]
    },
    {
      "cell_type": "code",
      "metadata": {
        "colab": {
          "base_uri": "https://localhost:8080/",
          "height": 203
        },
        "id": "EUh4xywWmUdl",
        "outputId": "b36994d7-f249-4bbb-f6e7-a0633272a87b"
      },
      "source": [
        "# Integrate the full dataset\n",
        "EuroSAT = pd.DataFrame().append([df1, df2, df3, df4, df5, df6, df7, df8, df9, df10])\n",
        "EuroSAT.head()"
      ],
      "execution_count": 34,
      "outputs": [
        {
          "output_type": "execute_result",
          "data": {
            "text/html": [
              "<div>\n",
              "<style scoped>\n",
              "    .dataframe tbody tr th:only-of-type {\n",
              "        vertical-align: middle;\n",
              "    }\n",
              "\n",
              "    .dataframe tbody tr th {\n",
              "        vertical-align: top;\n",
              "    }\n",
              "\n",
              "    .dataframe thead th {\n",
              "        text-align: right;\n",
              "    }\n",
              "</style>\n",
              "<table border=\"1\" class=\"dataframe\">\n",
              "  <thead>\n",
              "    <tr style=\"text-align: right;\">\n",
              "      <th></th>\n",
              "      <th>path</th>\n",
              "      <th>category</th>\n",
              "      <th>label</th>\n",
              "    </tr>\n",
              "  </thead>\n",
              "  <tbody>\n",
              "    <tr>\n",
              "      <th>0</th>\n",
              "      <td>/content/drive/My Drive/MUSA650-Spring2021/MUSA650-Final-Project/EuroSATImg/2750/AnnualCrop/AnnualCrop_2053.jpg</td>\n",
              "      <td>AnnualCrop</td>\n",
              "      <td>0</td>\n",
              "    </tr>\n",
              "    <tr>\n",
              "      <th>1</th>\n",
              "      <td>/content/drive/My Drive/MUSA650-Spring2021/MUSA650-Final-Project/EuroSATImg/2750/AnnualCrop/AnnualCrop_300.jpg</td>\n",
              "      <td>AnnualCrop</td>\n",
              "      <td>0</td>\n",
              "    </tr>\n",
              "    <tr>\n",
              "      <th>2</th>\n",
              "      <td>/content/drive/My Drive/MUSA650-Spring2021/MUSA650-Final-Project/EuroSATImg/2750/AnnualCrop/AnnualCrop_40.jpg</td>\n",
              "      <td>AnnualCrop</td>\n",
              "      <td>0</td>\n",
              "    </tr>\n",
              "    <tr>\n",
              "      <th>3</th>\n",
              "      <td>/content/drive/My Drive/MUSA650-Spring2021/MUSA650-Final-Project/EuroSATImg/2750/AnnualCrop/AnnualCrop_1146.jpg</td>\n",
              "      <td>AnnualCrop</td>\n",
              "      <td>0</td>\n",
              "    </tr>\n",
              "    <tr>\n",
              "      <th>4</th>\n",
              "      <td>/content/drive/My Drive/MUSA650-Spring2021/MUSA650-Final-Project/EuroSATImg/2750/AnnualCrop/AnnualCrop_2432.jpg</td>\n",
              "      <td>AnnualCrop</td>\n",
              "      <td>0</td>\n",
              "    </tr>\n",
              "  </tbody>\n",
              "</table>\n",
              "</div>"
            ],
            "text/plain": [
              "                                                                                                              path  ... label\n",
              "0  /content/drive/My Drive/MUSA650-Spring2021/MUSA650-Final-Project/EuroSATImg/2750/AnnualCrop/AnnualCrop_2053.jpg  ...     0\n",
              "1   /content/drive/My Drive/MUSA650-Spring2021/MUSA650-Final-Project/EuroSATImg/2750/AnnualCrop/AnnualCrop_300.jpg  ...     0\n",
              "2    /content/drive/My Drive/MUSA650-Spring2021/MUSA650-Final-Project/EuroSATImg/2750/AnnualCrop/AnnualCrop_40.jpg  ...     0\n",
              "3  /content/drive/My Drive/MUSA650-Spring2021/MUSA650-Final-Project/EuroSATImg/2750/AnnualCrop/AnnualCrop_1146.jpg  ...     0\n",
              "4  /content/drive/My Drive/MUSA650-Spring2021/MUSA650-Final-Project/EuroSATImg/2750/AnnualCrop/AnnualCrop_2432.jpg  ...     0\n",
              "\n",
              "[5 rows x 3 columns]"
            ]
          },
          "metadata": {
            "tags": []
          },
          "execution_count": 34
        }
      ]
    },
    {
      "cell_type": "code",
      "metadata": {
        "colab": {
          "base_uri": "https://localhost:8080/"
        },
        "id": "6KxsUf91mfCS",
        "outputId": "32932104-0901-4841-c7ec-5f0271b00f71"
      },
      "source": [
        "df_Is_Forest = EuroSAT\n",
        "df_Is_Forest['CAT']=0\n",
        "SEL_LABEL = 'Forest'\n",
        "df_Is_Forest.loc[df_Is_Forest.category==SEL_LABEL, 'CAT'] = 1\n",
        "print('[FACT] The EuroSAT data contains {} {} images and {} Non-{} images.'.format(np.sum(df_Is_Forest.CAT==1), SEL_LABEL, np.sum(df_Is_Forest.CAT==0), SEL_LABEL))"
      ],
      "execution_count": 39,
      "outputs": [
        {
          "output_type": "stream",
          "text": [
            "[FACT] The EuroSAT data contains 3000 Forest images and 24000 Non-Forest images.\n"
          ],
          "name": "stdout"
        }
      ]
    },
    {
      "cell_type": "code",
      "metadata": {
        "colab": {
          "base_uri": "https://localhost:8080/",
          "height": 203
        },
        "id": "Gd5TJlyfoEOa",
        "outputId": "4a944f46-1a44-4f24-cd3a-8ae7972d563c"
      },
      "source": [
        "df_Is_Forest.head()"
      ],
      "execution_count": 43,
      "outputs": [
        {
          "output_type": "execute_result",
          "data": {
            "text/html": [
              "<div>\n",
              "<style scoped>\n",
              "    .dataframe tbody tr th:only-of-type {\n",
              "        vertical-align: middle;\n",
              "    }\n",
              "\n",
              "    .dataframe tbody tr th {\n",
              "        vertical-align: top;\n",
              "    }\n",
              "\n",
              "    .dataframe thead th {\n",
              "        text-align: right;\n",
              "    }\n",
              "</style>\n",
              "<table border=\"1\" class=\"dataframe\">\n",
              "  <thead>\n",
              "    <tr style=\"text-align: right;\">\n",
              "      <th></th>\n",
              "      <th>path</th>\n",
              "      <th>category</th>\n",
              "      <th>label</th>\n",
              "      <th>CAT</th>\n",
              "    </tr>\n",
              "  </thead>\n",
              "  <tbody>\n",
              "    <tr>\n",
              "      <th>0</th>\n",
              "      <td>/content/drive/My Drive/MUSA650-Spring2021/MUSA650-Final-Project/EuroSATImg/2750/AnnualCrop/AnnualCrop_2053.jpg</td>\n",
              "      <td>AnnualCrop</td>\n",
              "      <td>0</td>\n",
              "      <td>0</td>\n",
              "    </tr>\n",
              "    <tr>\n",
              "      <th>1</th>\n",
              "      <td>/content/drive/My Drive/MUSA650-Spring2021/MUSA650-Final-Project/EuroSATImg/2750/AnnualCrop/AnnualCrop_300.jpg</td>\n",
              "      <td>AnnualCrop</td>\n",
              "      <td>0</td>\n",
              "      <td>0</td>\n",
              "    </tr>\n",
              "    <tr>\n",
              "      <th>2</th>\n",
              "      <td>/content/drive/My Drive/MUSA650-Spring2021/MUSA650-Final-Project/EuroSATImg/2750/AnnualCrop/AnnualCrop_40.jpg</td>\n",
              "      <td>AnnualCrop</td>\n",
              "      <td>0</td>\n",
              "      <td>0</td>\n",
              "    </tr>\n",
              "    <tr>\n",
              "      <th>3</th>\n",
              "      <td>/content/drive/My Drive/MUSA650-Spring2021/MUSA650-Final-Project/EuroSATImg/2750/AnnualCrop/AnnualCrop_1146.jpg</td>\n",
              "      <td>AnnualCrop</td>\n",
              "      <td>0</td>\n",
              "      <td>0</td>\n",
              "    </tr>\n",
              "    <tr>\n",
              "      <th>4</th>\n",
              "      <td>/content/drive/My Drive/MUSA650-Spring2021/MUSA650-Final-Project/EuroSATImg/2750/AnnualCrop/AnnualCrop_2432.jpg</td>\n",
              "      <td>AnnualCrop</td>\n",
              "      <td>0</td>\n",
              "      <td>0</td>\n",
              "    </tr>\n",
              "  </tbody>\n",
              "</table>\n",
              "</div>"
            ],
            "text/plain": [
              "                                                                                                              path  ... CAT\n",
              "0  /content/drive/My Drive/MUSA650-Spring2021/MUSA650-Final-Project/EuroSATImg/2750/AnnualCrop/AnnualCrop_2053.jpg  ...   0\n",
              "1   /content/drive/My Drive/MUSA650-Spring2021/MUSA650-Final-Project/EuroSATImg/2750/AnnualCrop/AnnualCrop_300.jpg  ...   0\n",
              "2    /content/drive/My Drive/MUSA650-Spring2021/MUSA650-Final-Project/EuroSATImg/2750/AnnualCrop/AnnualCrop_40.jpg  ...   0\n",
              "3  /content/drive/My Drive/MUSA650-Spring2021/MUSA650-Final-Project/EuroSATImg/2750/AnnualCrop/AnnualCrop_1146.jpg  ...   0\n",
              "4  /content/drive/My Drive/MUSA650-Spring2021/MUSA650-Final-Project/EuroSATImg/2750/AnnualCrop/AnnualCrop_2432.jpg  ...   0\n",
              "\n",
              "[5 rows x 4 columns]"
            ]
          },
          "metadata": {
            "tags": []
          },
          "execution_count": 43
        }
      ]
    },
    {
      "cell_type": "code",
      "metadata": {
        "colab": {
          "base_uri": "https://localhost:8080/"
        },
        "id": "Oolx_n-6rVCp",
        "outputId": "88104bfe-9219-4830-e456-4746cac09f08"
      },
      "source": [
        "y_train"
      ],
      "execution_count": 58,
      "outputs": [
        {
          "output_type": "execute_result",
          "data": {
            "text/plain": [
              "array([2, 6, 5, ..., 0, 5, 8])"
            ]
          },
          "metadata": {
            "tags": []
          },
          "execution_count": 58
        }
      ]
    },
    {
      "cell_type": "code",
      "metadata": {
        "colab": {
          "base_uri": "https://localhost:8080/"
        },
        "id": "KbO0wHcmoa7y",
        "outputId": "cf75fa55-e58c-4e93-bd74-e863e2d228ba"
      },
      "source": [
        "X_data = df_Is_Forest[\"path\"]\n",
        "y_data = df_Is_Forest[\"CAT\"].values\n",
        "\n",
        "# Split the data into training (60%) and testing sets (40%)\n",
        "from sklearn.model_selection import train_test_split\n",
        "X_train, X_test,y_train, y_test = train_test_split(X_data, y_data, train_size=0.6, random_state=42)\n",
        "print('[FACT] The training set contains {} images and the testing set contains {} images.'.format(X_train.shape[0], y_test.shape[0]))\n",
        "print('[FACT] Percentage of {} images in training set: {}.'.format(SEL_LABEL, np.sum(y_train==1)/y_train.shape[0]))\n",
        "print('[FACT] Percentage of {} images in testing set: {}. '.format(SEL_LABEL, np.sum(y_test==1)/y_test.shape[0]))"
      ],
      "execution_count": 63,
      "outputs": [
        {
          "output_type": "stream",
          "text": [
            "[FACT] The training set contains 16200 images and the testing set contains 10800 images.\n",
            "[FACT] Percentage of Forest images in training set: 0.11135802469135803.\n",
            "[FACT] Percentage of Forest images in testing set: 0.11074074074074074. \n"
          ],
          "name": "stdout"
        }
      ]
    },
    {
      "cell_type": "markdown",
      "metadata": {
        "id": "Exs0mTHurzKJ"
      },
      "source": [
        "Convert Data to Matrix Form"
      ]
    },
    {
      "cell_type": "code",
      "metadata": {
        "colab": {
          "base_uri": "https://localhost:8080/"
        },
        "id": "V-EIoQsCqI60",
        "outputId": "9bc70542-e5aa-484a-e794-e7fb5f0e45bf"
      },
      "source": [
        "# Read all images in the training dataset and convert the data into matrix\n",
        "print('[INFO] Converting data to matrix form ...')\n",
        "start = time.time()\n",
        "\n",
        "# get the shape of image\n",
        "img1 = imread(df1.path[0])\n",
        "img1_gray = rgb2gray(img1)\n",
        "img1_vec = img1_gray.flatten()\n",
        "\n",
        "dvec = img1_vec.shape[0]\n",
        "\n",
        "n = X_train.shape[0]\n",
        "\n",
        "mat_1D_train = np.zeros([n, dvec])\n",
        "\n",
        "# loop\n",
        "for i, tmpPath in enumerate(X_train.values):\n",
        "    img_rgb_All = imread(tmpPath)\n",
        "    img_gray_All = rgb2gray(img_rgb_All)\n",
        "    img_vec_All = img_gray_All.flatten()\n",
        "    mat_1D_train[i, :] = img_vec_All\n",
        "\n",
        "# Read all images in the testing dataset and convert the data into matrix\n",
        "\n",
        "# get the shape of image\n",
        "img1 = imread(df1.path[0])\n",
        "img1_gray = rgb2gray(img1)\n",
        "img1_vec = img1_gray.flatten()\n",
        "\n",
        "dvec = img1_vec.shape[0]\n",
        "\n",
        "n = X_test.shape[0]\n",
        "\n",
        "mat_1D_test = np.zeros([n, dvec])\n",
        "\n",
        "# loop\n",
        "for i, tmpPath in enumerate(X_test.values):\n",
        "    img_rgb_All = imread(tmpPath)\n",
        "    img_gray_All = rgb2gray(img_rgb_All)\n",
        "    img_vec_All = img_gray_All.flatten()\n",
        "    mat_1D_test[i, :] = img_vec_All\n",
        "\n",
        "end = time.time()\n",
        "print('[INFO] Converting data to matrix form took {} seconds'.format(end-start))"
      ],
      "execution_count": 66,
      "outputs": [
        {
          "output_type": "stream",
          "text": [
            "[INFO] Converting data to matrix form ...\n",
            "[INFO] Converting data to matrix form took 63.05270791053772 seconds\n"
          ],
          "name": "stdout"
        }
      ]
    },
    {
      "cell_type": "code",
      "metadata": {
        "colab": {
          "base_uri": "https://localhost:8080/"
        },
        "id": "U6kKp2FXtC3k",
        "outputId": "13576322-f40e-4018-8b11-f044c68a3985"
      },
      "source": [
        "mat_1D_train.shape"
      ],
      "execution_count": 68,
      "outputs": [
        {
          "output_type": "execute_result",
          "data": {
            "text/plain": [
              "(16200, 4096)"
            ]
          },
          "metadata": {
            "tags": []
          },
          "execution_count": 68
        }
      ]
    },
    {
      "cell_type": "code",
      "metadata": {
        "colab": {
          "base_uri": "https://localhost:8080/"
        },
        "id": "7eqWzTv-s_VO",
        "outputId": "ef5c83cf-69d4-41c3-e82d-93ef9464c11e"
      },
      "source": [
        "mat_1D_test.shape"
      ],
      "execution_count": 67,
      "outputs": [
        {
          "output_type": "execute_result",
          "data": {
            "text/plain": [
              "(10800, 4096)"
            ]
          },
          "metadata": {
            "tags": []
          },
          "execution_count": 67
        }
      ]
    },
    {
      "cell_type": "markdown",
      "metadata": {
        "id": "z8PMKv61u9wr"
      },
      "source": [
        "SVC"
      ]
    },
    {
      "cell_type": "code",
      "metadata": {
        "colab": {
          "base_uri": "https://localhost:8080/"
        },
        "id": "TmEmknGyu_vO",
        "outputId": "91423c81-2085-48f9-cce3-679498037cd7"
      },
      "source": [
        "from sklearn.svm import SVC\n",
        "svc=SVC()\n",
        "\n",
        "print('[INFO] SVC Training ...')\n",
        "start = time.time()\n",
        "\n",
        "# train the model\n",
        "svc.fit(mat_1D_train, y_train)\n",
        "\n",
        "end = time.time()\n",
        "print('[INFO] SVC Training took {} seconds'.format(end-start))"
      ],
      "execution_count": 73,
      "outputs": [
        {
          "output_type": "stream",
          "text": [
            "[INFO] SVC Training ...\n",
            "[INFO] SVC Training took 308.3952388763428 seconds\n"
          ],
          "name": "stdout"
        }
      ]
    },
    {
      "cell_type": "code",
      "metadata": {
        "colab": {
          "base_uri": "https://localhost:8080/"
        },
        "id": "nwPyIiVEvdza",
        "outputId": "9d238eef-40f8-438e-ad70-a3344660b39a"
      },
      "source": [
        "# testing accuracy\n",
        "\n",
        "print('[INFO] SVC Testing ...')\n",
        "start = time.time()\n",
        "\n",
        "y_pred_test = svc.predict(mat_1D_test)\n",
        "\n",
        "from sklearn.metrics import accuracy_score\n",
        "print ('Testing accuracy =', accuracy_score(y_test, y_pred_test))\n",
        "\n",
        "from sklearn.metrics import classification_report\n",
        "print(classification_report(y_test, y_pred_test))\n",
        "\n",
        "end = time.time()\n",
        "print('[INFO] SVC Testing took {} seconds'.format(end-start))"
      ],
      "execution_count": 75,
      "outputs": [
        {
          "output_type": "stream",
          "text": [
            "[INFO] SVC Testing ...\n",
            "Testing accuracy = 0.9407407407407408\n",
            "              precision    recall  f1-score   support\n",
            "\n",
            "           0       0.98      0.95      0.97      9604\n",
            "           1       0.69      0.84      0.76      1196\n",
            "\n",
            "    accuracy                           0.94     10800\n",
            "   macro avg       0.84      0.90      0.86     10800\n",
            "weighted avg       0.95      0.94      0.94     10800\n",
            "\n",
            "[INFO] SVC Testing took 190.18878626823425 seconds\n"
          ],
          "name": "stdout"
        }
      ]
    },
    {
      "cell_type": "markdown",
      "metadata": {
        "id": "qBu_dsz6vjXm"
      },
      "source": [
        "CNN"
      ]
    },
    {
      "cell_type": "code",
      "metadata": {
        "id": "aFSoIsJvziTh"
      },
      "source": [
        "# read images without vectorize them\n",
        "num = X_train.shape[0]\n",
        "dim_train = np.zeros([num, 64, 64, 3])\n",
        "\n",
        "# loop\n",
        "for i, tmpPath in enumerate(X_train.values):\n",
        "    img_rgb_train = imread(tmpPath)\n",
        "    dim_train[i, :, :, :] = img_rgb_train"
      ],
      "execution_count": 88,
      "outputs": []
    },
    {
      "cell_type": "code",
      "metadata": {
        "colab": {
          "base_uri": "https://localhost:8080/"
        },
        "id": "NZK0PGYnzohn",
        "outputId": "5ccd5453-8076-4ba9-807d-68e119c3164b"
      },
      "source": [
        "dim_train.shape"
      ],
      "execution_count": 89,
      "outputs": [
        {
          "output_type": "execute_result",
          "data": {
            "text/plain": [
              "(16200, 64, 64, 3)"
            ]
          },
          "metadata": {
            "tags": []
          },
          "execution_count": 89
        }
      ]
    },
    {
      "cell_type": "code",
      "metadata": {
        "id": "x3ds31h6zwZM"
      },
      "source": [
        "#read images without vectorize them\n",
        "num = X_test.shape[0]\n",
        "dim_test = np.zeros([num, 64, 64, 3])\n",
        "\n",
        "#loop\n",
        "for i, tmpPath in enumerate(X_test.values):\n",
        "    img_rgb_train = imread(tmpPath)\n",
        "    dim_test[i, :, :, :] = img_rgb_train"
      ],
      "execution_count": 90,
      "outputs": []
    },
    {
      "cell_type": "code",
      "metadata": {
        "colab": {
          "base_uri": "https://localhost:8080/"
        },
        "id": "3EFojWHvzzFa",
        "outputId": "6c4f5778-d040-4e51-aae5-ccc9d5f87d60"
      },
      "source": [
        "dim_test.shape"
      ],
      "execution_count": 91,
      "outputs": [
        {
          "output_type": "execute_result",
          "data": {
            "text/plain": [
              "(10800, 64, 64, 3)"
            ]
          },
          "metadata": {
            "tags": []
          },
          "execution_count": 91
        }
      ]
    },
    {
      "cell_type": "code",
      "metadata": {
        "id": "hmkf9NlBz2RS"
      },
      "source": [
        "#change labels to categorical\n",
        "from keras.utils import to_categorical\n",
        "\n",
        "y_train_labels = to_categorical(y_train)\n",
        "y_test_labels = to_categorical(y_test)"
      ],
      "execution_count": 92,
      "outputs": []
    },
    {
      "cell_type": "code",
      "metadata": {
        "colab": {
          "base_uri": "https://localhost:8080/"
        },
        "id": "fNaLTw1lz4TP",
        "outputId": "19243c78-9007-4c55-d2bd-67ec60483299"
      },
      "source": [
        "y_train_labels"
      ],
      "execution_count": 93,
      "outputs": [
        {
          "output_type": "execute_result",
          "data": {
            "text/plain": [
              "array([[1., 0.],\n",
              "       [1., 0.],\n",
              "       [1., 0.],\n",
              "       ...,\n",
              "       [1., 0.],\n",
              "       [1., 0.],\n",
              "       [1., 0.]], dtype=float32)"
            ]
          },
          "metadata": {
            "tags": []
          },
          "execution_count": 93
        }
      ]
    },
    {
      "cell_type": "code",
      "metadata": {
        "colab": {
          "base_uri": "https://localhost:8080/"
        },
        "id": "WPbu0HGJ0BWl",
        "outputId": "3e0a1292-b302-4865-8fa5-faa96a8cfdbe"
      },
      "source": [
        "#Simple CNN\n",
        "\n",
        "model = Sequential()\n",
        "model.add(Conv2D(32, kernel_size=(3, 3),\n",
        "                 activation='relu',\n",
        "                 input_shape=(64, 64, 3)))\n",
        "model.add(Conv2D(64, (3, 3), activation='relu'))\n",
        "model.add(MaxPooling2D(pool_size=(2, 2)))\n",
        "model.add(Dropout(0.25))\n",
        "model.add(Flatten())\n",
        "model.add(Dense(128, activation='relu'))\n",
        "model.add(Dropout(0.5))\n",
        "model.add(Dense(2, activation='softmax'))\n",
        "\n",
        "print(model.summary())"
      ],
      "execution_count": 97,
      "outputs": [
        {
          "output_type": "stream",
          "text": [
            "Model: \"sequential_1\"\n",
            "_________________________________________________________________\n",
            "Layer (type)                 Output Shape              Param #   \n",
            "=================================================================\n",
            "conv2d_2 (Conv2D)            (None, 62, 62, 32)        896       \n",
            "_________________________________________________________________\n",
            "conv2d_3 (Conv2D)            (None, 60, 60, 64)        18496     \n",
            "_________________________________________________________________\n",
            "max_pooling2d_1 (MaxPooling2 (None, 30, 30, 64)        0         \n",
            "_________________________________________________________________\n",
            "dropout_2 (Dropout)          (None, 30, 30, 64)        0         \n",
            "_________________________________________________________________\n",
            "flatten_1 (Flatten)          (None, 57600)             0         \n",
            "_________________________________________________________________\n",
            "dense_2 (Dense)              (None, 128)               7372928   \n",
            "_________________________________________________________________\n",
            "dropout_3 (Dropout)          (None, 128)               0         \n",
            "_________________________________________________________________\n",
            "dense_3 (Dense)              (None, 2)                 258       \n",
            "=================================================================\n",
            "Total params: 7,392,578\n",
            "Trainable params: 7,392,578\n",
            "Non-trainable params: 0\n",
            "_________________________________________________________________\n",
            "None\n"
          ],
          "name": "stdout"
        }
      ]
    },
    {
      "cell_type": "code",
      "metadata": {
        "colab": {
          "base_uri": "https://localhost:8080/"
        },
        "id": "u4Vha85S0EEU",
        "outputId": "c7c7166a-90cf-4080-87a7-40b3cc65cf30"
      },
      "source": [
        "print('[INFO] Model Compiling ...')\n",
        "start = time.time()\n",
        "\n",
        "model.compile(loss=keras.losses.categorical_crossentropy,\n",
        "              optimizer=keras.optimizers.Adadelta(),\n",
        "              metrics=['accuracy'])\n",
        "\n",
        "end = time.time()\n",
        "print('[INFO] Model Compiling took {} seconds'.format(end-start))"
      ],
      "execution_count": 98,
      "outputs": [
        {
          "output_type": "stream",
          "text": [
            "[INFO] Model Compiling ...\n",
            "[INFO] Model Compiling took 0.009467840194702148 seconds\n"
          ],
          "name": "stdout"
        }
      ]
    },
    {
      "cell_type": "code",
      "metadata": {
        "colab": {
          "base_uri": "https://localhost:8080/"
        },
        "id": "c7zIvHt10JNb",
        "outputId": "601b91af-319d-40de-a4b0-fd7c930b49d7"
      },
      "source": [
        "print('[INFO] Model Training ...')\n",
        "start = time.time()\n",
        "\n",
        "model.fit(dim_train, y_train_labels,\n",
        "          batch_size=128,\n",
        "          epochs=12,\n",
        "          verbose=1,\n",
        "          validation_data=(dim_test, y_test_labels))\n",
        "\n",
        "end = time.time()\n",
        "print('[INFO] Model Training took {} seconds'.format(end-start))"
      ],
      "execution_count": 99,
      "outputs": [
        {
          "output_type": "stream",
          "text": [
            "[INFO] Model Training ...\n",
            "Epoch 1/12\n",
            "127/127 [==============================] - 202s 2s/step - loss: 6.2892 - accuracy: 0.7712 - val_loss: 1.5761 - val_accuracy: 0.8893\n",
            "Epoch 2/12\n",
            "127/127 [==============================] - 199s 2s/step - loss: 2.9005 - accuracy: 0.8361 - val_loss: 0.2659 - val_accuracy: 0.8601\n",
            "Epoch 3/12\n",
            "127/127 [==============================] - 199s 2s/step - loss: 1.4789 - accuracy: 0.8506 - val_loss: 0.2765 - val_accuracy: 0.8499\n",
            "Epoch 4/12\n",
            "127/127 [==============================] - 204s 2s/step - loss: 0.7617 - accuracy: 0.8554 - val_loss: 0.2534 - val_accuracy: 0.8692\n",
            "Epoch 5/12\n",
            "127/127 [==============================] - 203s 2s/step - loss: 0.4407 - accuracy: 0.8593 - val_loss: 0.3015 - val_accuracy: 0.8702\n",
            "Epoch 6/12\n",
            "127/127 [==============================] - 203s 2s/step - loss: 0.3218 - accuracy: 0.8654 - val_loss: 0.2691 - val_accuracy: 0.8795\n",
            "Epoch 7/12\n",
            "127/127 [==============================] - 200s 2s/step - loss: 0.2768 - accuracy: 0.8757 - val_loss: 0.2621 - val_accuracy: 0.8868\n",
            "Epoch 8/12\n",
            "127/127 [==============================] - 203s 2s/step - loss: 0.2619 - accuracy: 0.8806 - val_loss: 0.2867 - val_accuracy: 0.8880\n",
            "Epoch 9/12\n",
            "127/127 [==============================] - 200s 2s/step - loss: 0.2462 - accuracy: 0.8799 - val_loss: 0.2625 - val_accuracy: 0.8893\n",
            "Epoch 10/12\n",
            "127/127 [==============================] - 204s 2s/step - loss: 0.2396 - accuracy: 0.8835 - val_loss: 0.2643 - val_accuracy: 0.8891\n",
            "Epoch 11/12\n",
            "127/127 [==============================] - 204s 2s/step - loss: 0.2295 - accuracy: 0.8826 - val_loss: 0.2570 - val_accuracy: 0.8891\n",
            "Epoch 12/12\n",
            "127/127 [==============================] - 204s 2s/step - loss: 0.2277 - accuracy: 0.8822 - val_loss: 0.2494 - val_accuracy: 0.8892\n",
            "[INFO] Model Training took 2427.4599165916443 seconds\n"
          ],
          "name": "stdout"
        }
      ]
    },
    {
      "cell_type": "code",
      "metadata": {
        "colab": {
          "base_uri": "https://localhost:8080/"
        },
        "id": "C0TsPHz93qWM",
        "outputId": "ef4c9ff1-ab14-4a1b-ec33-49ba4c479d5c"
      },
      "source": [
        "# Save the entire model as a SavedModel.\n",
        "!pip install pyyaml h5py  # Required to save models in HDF5 format\n",
        "\n",
        "model.save(r'/content/drive/My Drive/MUSA650-Spring2021/MUSA650-Final-Project/saved_model/EuroSAT_cnn_1') "
      ],
      "execution_count": 106,
      "outputs": [
        {
          "output_type": "stream",
          "text": [
            "Requirement already satisfied: pyyaml in /usr/local/lib/python3.7/dist-packages (3.13)\n",
            "Requirement already satisfied: h5py in /usr/local/lib/python3.7/dist-packages (2.10.0)\n",
            "Requirement already satisfied: numpy>=1.7 in /usr/local/lib/python3.7/dist-packages (from h5py) (1.19.5)\n",
            "Requirement already satisfied: six in /usr/local/lib/python3.7/dist-packages (from h5py) (1.15.0)\n",
            "INFO:tensorflow:Assets written to: /content/drive/My Drive/MUSA650-Spring2021/MUSA650-Final-Project/saved_model/EuroSAT_cnn_1/assets\n"
          ],
          "name": "stdout"
        }
      ]
    }
  ]
}